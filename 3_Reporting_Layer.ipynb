{
 "cells": [
  {
   "cell_type": "code",
   "execution_count": null,
   "id": "68ccbee4",
   "metadata": {},
   "outputs": [],
   "source": [
    "# Install BigQuery client library (run this cell once)\n",
    "%pip install google-cloud-bigquery --quiet\n",
    "%pip install bigquery-magics --quiet\n",
    "%pip install db-dtypes --quiet\n",
    "# Import libraries\n",
    "from google.cloud import bigquery\n",
    "import pandas as pd\n",
    "%load_ext bigquery_magics\n",
    "import db_dtypes\n",
    "import os\n",
    "os.environ[\"GOOGLE_APPLICATION_CREDENTIALS\"] = \"salesforce-465614-2cf9e37da64b.json\"\n",
    "from google.cloud import bigquery\n",
    "# Initialize BigQuery client\n",
    "client = bigquery.Client()"
   ]
  },
  {
   "cell_type": "markdown",
   "id": "4ff402e3",
   "metadata": {},
   "source": [
    "<h2>Reporting Layer</h2>"
   ]
  },
  {
   "cell_type": "code",
   "execution_count": null,
   "id": "9f34ace1",
   "metadata": {},
   "outputs": [],
   "source": []
  },
  {
   "cell_type": "code",
   "execution_count": null,
   "id": "4c0a8d31",
   "metadata": {},
   "outputs": [],
   "source": [
    "%%bqsql\n",
    "create or replace view salesforce-465614.cust_analytics.report_customer_transactions_view as\n",
    "select transaction_id,fact.customer_id,fact.product_id,fact.store_id,transaction_date,quantity,discount_applied,total_amount,\n",
    "channel,payment_method,first_name,last_name,gender,age,signup_date,loyalty_program,email,city,state,country,store_type,store_location,\n",
    "region,date_id,day_of_week,week_of_year,month,year,is_weekend from \n",
    "salesforce-465614.cust_analytics.fact_transactions fact\n",
    "left join \n",
    "salesforce-465614.cust_analytics.dim_customers cust\n",
    "on fact.customer_id=cust.customer_id\n",
    "left join \n",
    "salesforce-465614.cust_analytics.dim_products product \n",
    "on fact.product_id=product.product_id\n",
    "left join \n",
    "salesforce-465614.cust_analytics.stage_stores stores\n",
    "on fact.store_id=stores.store_id\n",
    "left join\n",
    "salesforce-465614.cust_analytics.dim_date date\n",
    "on fact.transaction_date=date.date_id\n"
   ]
  }
 ],
 "metadata": {
  "kernelspec": {
   "display_name": "Python 3",
   "language": "python",
   "name": "python3"
  },
  "language_info": {
   "name": "python",
   "version": "3.12.4"
  }
 },
 "nbformat": 4,
 "nbformat_minor": 5
}
