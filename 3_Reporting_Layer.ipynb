{
 "cells": [
  {
   "cell_type": "code",
   "execution_count": 2,
   "id": "68ccbee4",
   "metadata": {},
   "outputs": [
    {
     "name": "stdout",
     "output_type": "stream",
     "text": [
      "Note: you may need to restart the kernel to use updated packages.\n"
     ]
    },
    {
     "name": "stderr",
     "output_type": "stream",
     "text": [
      "\n",
      "[notice] A new release of pip is available: 24.0 -> 25.1.1\n",
      "[notice] To update, run: python.exe -m pip install --upgrade pip\n"
     ]
    },
    {
     "name": "stdout",
     "output_type": "stream",
     "text": [
      "Note: you may need to restart the kernel to use updated packages.\n"
     ]
    },
    {
     "name": "stderr",
     "output_type": "stream",
     "text": [
      "\n",
      "[notice] A new release of pip is available: 24.0 -> 25.1.1\n",
      "[notice] To update, run: python.exe -m pip install --upgrade pip\n",
      "\n",
      "[notice] A new release of pip is available: 24.0 -> 25.1.1\n",
      "[notice] To update, run: python.exe -m pip install --upgrade pip\n"
     ]
    },
    {
     "name": "stdout",
     "output_type": "stream",
     "text": [
      "Note: you may need to restart the kernel to use updated packages.\n"
     ]
    }
   ],
   "source": [
    "# Install BigQuery client library (run this cell once)\n",
    "%pip install google-cloud-bigquery --quiet\n",
    "%pip install bigquery-magics --quiet\n",
    "%pip install db-dtypes --quiet\n",
    "# Import libraries\n",
    "from google.cloud import bigquery\n",
    "import pandas as pd\n",
    "%load_ext bigquery_magics\n",
    "import db_dtypes\n",
    "import os\n",
    "os.environ[\"GOOGLE_APPLICATION_CREDENTIALS\"] = \"salesforce-465614-2cf9e37da64b.json\"\n",
    "from google.cloud import bigquery\n",
    "# Initialize BigQuery client\n",
    "client = bigquery.Client()"
   ]
  },
  {
   "cell_type": "code",
   "execution_count": 5,
   "id": "f8c8aee7",
   "metadata": {},
   "outputs": [
    {
     "data": {
      "application/vnd.jupyter.widget-view+json": {
       "model_id": "4a8389d215dc42478e52c59fa771eee7",
       "version_major": 2,
       "version_minor": 0
      },
      "text/plain": [
       "Query is running:   0%|          |"
      ]
     },
     "metadata": {},
     "output_type": "display_data"
    },
    {
     "data": {
      "application/vnd.jupyter.widget-view+json": {
       "model_id": "72d2980d19d14a0b88e8fc18055d9a5f",
       "version_major": 2,
       "version_minor": 0
      },
      "text/plain": [
       "Downloading:   0%|          |"
      ]
     },
     "metadata": {},
     "output_type": "display_data"
    },
    {
     "data": {
      "text/html": [
       "<div>\n",
       "<style scoped>\n",
       "    .dataframe tbody tr th:only-of-type {\n",
       "        vertical-align: middle;\n",
       "    }\n",
       "\n",
       "    .dataframe tbody tr th {\n",
       "        vertical-align: top;\n",
       "    }\n",
       "\n",
       "    .dataframe thead th {\n",
       "        text-align: right;\n",
       "    }\n",
       "</style>\n",
       "<table border=\"1\" class=\"dataframe\">\n",
       "  <thead>\n",
       "    <tr style=\"text-align: right;\">\n",
       "      <th></th>\n",
       "      <th>transaction_id</th>\n",
       "      <th>customer_id</th>\n",
       "      <th>product_id</th>\n",
       "      <th>Store_id</th>\n",
       "      <th>Purchase_Date</th>\n",
       "      <th>Unit_Price</th>\n",
       "      <th>quantity</th>\n",
       "      <th>Total_Price</th>\n",
       "      <th>Payment_Method</th>\n",
       "      <th>Order_Status</th>\n",
       "      <th>start_date</th>\n",
       "      <th>end_date</th>\n",
       "      <th>is_current</th>\n",
       "    </tr>\n",
       "  </thead>\n",
       "  <tbody>\n",
       "    <tr>\n",
       "      <th>0</th>\n",
       "      <td>T234143</td>\n",
       "      <td>C1119</td>\n",
       "      <td>P102</td>\n",
       "      <td>STORE_32</td>\n",
       "      <td>2024-08-26</td>\n",
       "      <td>504.81</td>\n",
       "      <td>1</td>\n",
       "      <td>504.81</td>\n",
       "      <td>Cash</td>\n",
       "      <td>Completed</td>\n",
       "      <td>2025-07-17</td>\n",
       "      <td>NaT</td>\n",
       "      <td>True</td>\n",
       "    </tr>\n",
       "    <tr>\n",
       "      <th>1</th>\n",
       "      <td>T526357</td>\n",
       "      <td>C1468</td>\n",
       "      <td>P102</td>\n",
       "      <td>STORE_44</td>\n",
       "      <td>2024-01-24</td>\n",
       "      <td>504.81</td>\n",
       "      <td>1</td>\n",
       "      <td>504.81</td>\n",
       "      <td>Bank Transfer</td>\n",
       "      <td>Cancelled</td>\n",
       "      <td>2025-07-17</td>\n",
       "      <td>NaT</td>\n",
       "      <td>True</td>\n",
       "    </tr>\n",
       "  </tbody>\n",
       "</table>\n",
       "</div>"
      ],
      "text/plain": [
       "  transaction_id customer_id product_id  Store_id Purchase_Date  Unit_Price  \\\n",
       "0        T234143       C1119       P102  STORE_32    2024-08-26      504.81   \n",
       "1        T526357       C1468       P102  STORE_44    2024-01-24      504.81   \n",
       "\n",
       "   quantity  Total_Price Payment_Method Order_Status  start_date end_date  \\\n",
       "0         1       504.81           Cash    Completed  2025-07-17      NaT   \n",
       "1         1       504.81  Bank Transfer    Cancelled  2025-07-17      NaT   \n",
       "\n",
       "   is_current  \n",
       "0        True  \n",
       "1        True  "
      ]
     },
     "execution_count": 5,
     "metadata": {},
     "output_type": "execute_result"
    }
   ],
   "source": [
    "%%bqsql\n",
    "select * from salesforce-465614.cust_analytics.fact_transactions\n",
    "limit 2"
   ]
  },
  {
   "cell_type": "markdown",
   "id": "4ff402e3",
   "metadata": {},
   "source": [
    "<h2>Reporting Layer</h2>"
   ]
  },
  {
   "cell_type": "code",
   "execution_count": 5,
   "id": "1d075571",
   "metadata": {},
   "outputs": [
    {
     "data": {
      "application/vnd.jupyter.widget-view+json": {
       "model_id": "b45c52d06c2d448b9ca7bb621177bbb3",
       "version_major": 2,
       "version_minor": 0
      },
      "text/plain": [
       "Query is running:   0%|          |"
      ]
     },
     "metadata": {},
     "output_type": "display_data"
    },
    {
     "data": {
      "text/html": [
       "<div>\n",
       "<style scoped>\n",
       "    .dataframe tbody tr th:only-of-type {\n",
       "        vertical-align: middle;\n",
       "    }\n",
       "\n",
       "    .dataframe tbody tr th {\n",
       "        vertical-align: top;\n",
       "    }\n",
       "\n",
       "    .dataframe thead th {\n",
       "        text-align: right;\n",
       "    }\n",
       "</style>\n",
       "<table border=\"1\" class=\"dataframe\">\n",
       "  <thead>\n",
       "    <tr style=\"text-align: right;\">\n",
       "      <th></th>\n",
       "    </tr>\n",
       "  </thead>\n",
       "  <tbody>\n",
       "  </tbody>\n",
       "</table>\n",
       "</div>"
      ],
      "text/plain": [
       "Empty DataFrame\n",
       "Columns: []\n",
       "Index: []"
      ]
     },
     "execution_count": 5,
     "metadata": {},
     "output_type": "execute_result"
    }
   ],
   "source": [
    "%%bqsql\n",
    "drop table if exists salesforce-465614.cust_analytics.report_transactions;"
   ]
  },
  {
   "cell_type": "code",
   "execution_count": 6,
   "id": "9f34ace1",
   "metadata": {},
   "outputs": [
    {
     "data": {
      "application/vnd.jupyter.widget-view+json": {
       "model_id": "e7d5efd4f5864575aa0903eb1941f067",
       "version_major": 2,
       "version_minor": 0
      },
      "text/plain": [
       "Query is running:   0%|          |"
      ]
     },
     "metadata": {},
     "output_type": "display_data"
    },
    {
     "data": {
      "text/html": [
       "<div>\n",
       "<style scoped>\n",
       "    .dataframe tbody tr th:only-of-type {\n",
       "        vertical-align: middle;\n",
       "    }\n",
       "\n",
       "    .dataframe tbody tr th {\n",
       "        vertical-align: top;\n",
       "    }\n",
       "\n",
       "    .dataframe thead th {\n",
       "        text-align: right;\n",
       "    }\n",
       "</style>\n",
       "<table border=\"1\" class=\"dataframe\">\n",
       "  <thead>\n",
       "    <tr style=\"text-align: right;\">\n",
       "      <th></th>\n",
       "    </tr>\n",
       "  </thead>\n",
       "  <tbody>\n",
       "  </tbody>\n",
       "</table>\n",
       "</div>"
      ],
      "text/plain": [
       "Empty DataFrame\n",
       "Columns: []\n",
       "Index: []"
      ]
     },
     "execution_count": 6,
     "metadata": {},
     "output_type": "execute_result"
    }
   ],
   "source": [
    "%%bqsql\n",
    "CREATE TABLE salesforce-465614.cust_analytics.report_transactions\n",
    "PARTITION BY Purchase_Date\n",
    "CLUSTER BY customer_id, product_id, Store_id\n",
    "as\n",
    "select \n",
    "transaction_id,fact.customer_id,fact.product_id,fact.Store_id,order_status,\n",
    "Purchase_Date,category,sub_category,Unit_Price,quantity,Total_Price,payment_method,store_type as channel,loyalty_program,\n",
    "age,gender,city from \n",
    "(select * from salesforce-465614.cust_analytics.fact_transactions where is_current=True) fact\n",
    "left join \n",
    "(select * from salesforce-465614.cust_analytics.dim_customers where is_current=True)  cust\n",
    "on fact.customer_id=cust.customer_id\n",
    "left join \n",
    "(select * from salesforce-465614.cust_analytics.dim_products where is_current=True) product \n",
    "on fact.product_id=product.product_id\n",
    "left join \n",
    "(select * from salesforce-465614.cust_analytics.dim_stores where is_current=True) stores\n",
    "on fact.Store_id=stores.Store_id"
   ]
  },
  {
   "cell_type": "markdown",
   "id": "6944d55b",
   "metadata": {},
   "source": []
  },
  {
   "cell_type": "code",
   "execution_count": null,
   "id": "f3657ec9",
   "metadata": {},
   "outputs": [],
   "source": [
    "## Optional columns to consider for reporting \n",
    "## first_name,last_name,gender,age,signup_date,loyalty_program,email,city,state,country,\n",
    "##  store_type,store_location,"
   ]
  },
  {
   "cell_type": "code",
   "execution_count": 6,
   "id": "4c0a8d31",
   "metadata": {},
   "outputs": [
    {
     "data": {
      "application/vnd.jupyter.widget-view+json": {
       "model_id": "44b4962e2f844de3b064b3f7a9bde02d",
       "version_major": 2,
       "version_minor": 0
      },
      "text/plain": [
       "Query is running:   0%|          |"
      ]
     },
     "metadata": {},
     "output_type": "display_data"
    },
    {
     "data": {
      "application/vnd.jupyter.widget-view+json": {
       "model_id": "54fb0034957f48e0bb71ab1f527e4f2f",
       "version_major": 2,
       "version_minor": 0
      },
      "text/plain": [
       "Downloading: |          |"
      ]
     },
     "metadata": {},
     "output_type": "display_data"
    },
    {
     "data": {
      "text/html": [
       "<div>\n",
       "<style scoped>\n",
       "    .dataframe tbody tr th:only-of-type {\n",
       "        vertical-align: middle;\n",
       "    }\n",
       "\n",
       "    .dataframe tbody tr th {\n",
       "        vertical-align: top;\n",
       "    }\n",
       "\n",
       "    .dataframe thead th {\n",
       "        text-align: right;\n",
       "    }\n",
       "</style>\n",
       "<table border=\"1\" class=\"dataframe\">\n",
       "  <thead>\n",
       "    <tr style=\"text-align: right;\">\n",
       "      <th></th>\n",
       "      <th>store_id</th>\n",
       "      <th>store_type</th>\n",
       "      <th>store_location</th>\n",
       "      <th>region</th>\n",
       "      <th>start_date</th>\n",
       "      <th>end_date</th>\n",
       "      <th>is_current</th>\n",
       "    </tr>\n",
       "  </thead>\n",
       "  <tbody>\n",
       "  </tbody>\n",
       "</table>\n",
       "</div>"
      ],
      "text/plain": [
       "Empty DataFrame\n",
       "Columns: [store_id, store_type, store_location, region, start_date, end_date, is_current]\n",
       "Index: []"
      ]
     },
     "execution_count": 6,
     "metadata": {},
     "output_type": "execute_result"
    }
   ],
   "source": [
    "%%bqsql\n",
    "select * from salesforce-465614.cust_analytics.dim_stores where store_location='STORE_32'"
   ]
  }
 ],
 "metadata": {
  "kernelspec": {
   "display_name": "Python 3",
   "language": "python",
   "name": "python3"
  },
  "language_info": {
   "codemirror_mode": {
    "name": "ipython",
    "version": 3
   },
   "file_extension": ".py",
   "mimetype": "text/x-python",
   "name": "python",
   "nbconvert_exporter": "python",
   "pygments_lexer": "ipython3",
   "version": "3.12.4"
  }
 },
 "nbformat": 4,
 "nbformat_minor": 5
}
